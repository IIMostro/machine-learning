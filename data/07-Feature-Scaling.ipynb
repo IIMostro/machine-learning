{
 "cells": [
  {
   "cell_type": "markdown",
   "id": "776dfab2",
   "metadata": {},
   "source": [
    "# 数据归一化"
   ]
  },
  {
   "cell_type": "markdown",
   "id": "3c948e4e",
   "metadata": {},
   "source": [
    " # 解决方案 <br/>\n",
    " ## 1. 最值归一化: 把所有数据映射到0-1之间\n",
    " # $x_{scale}=\\frac {x-x_{min}}{x_{max}-x_{min}}$\n",
    " 使用于数据有边界 例如学生成绩0-100，受outlier影响较大.所以不能适用于工资的分部\n",
    " ## 2. 均值方差归一化：把所有数据归一到均值为0方差为1的分布中\n",
    " # $x_{scale}=\\frac {x-x_{mean}}{S}$\n",
    " 使用数据没有明显的边界，有可能存在极端值的情况下。一般情况下都可以使用均值方差归一化，除非有明显的边界"
   ]
  },
  {
   "cell_type": "markdown",
   "id": "ba75bd85",
   "metadata": {},
   "source": [
    "## 最值归一化处理 Normalization"
   ]
  },
  {
   "cell_type": "code",
   "execution_count": 1,
   "id": "69da7253",
   "metadata": {},
   "outputs": [],
   "source": [
    "import numpy as np\n",
    "import matplotlib.pyplot as plt"
   ]
  },
  {
   "cell_type": "code",
   "execution_count": 2,
   "id": "d3373f04",
   "metadata": {},
   "outputs": [],
   "source": [
    "x = np.random.randint(0, 100, size=100)"
   ]
  },
  {
   "cell_type": "code",
   "execution_count": 3,
   "id": "7a5fb7d8",
   "metadata": {},
   "outputs": [
    {
     "data": {
      "text/plain": [
       "array([98, 50, 27, 93, 82, 50, 33, 36, 67, 23, 26, 40, 69, 95, 32, 29, 30,\n",
       "       61, 74, 32, 89, 31, 70, 93, 29, 57, 53, 76, 45, 94, 18, 43, 55, 53,\n",
       "        6, 46,  1, 84, 11,  4, 59, 20, 61, 87, 83, 64, 46, 67, 40, 26, 63,\n",
       "       32, 60, 51, 27, 89,  7, 28, 13,  6, 92, 23, 96, 31, 27, 64,  9, 73,\n",
       "       13, 11, 29, 31,  5, 69, 21, 64, 50, 41, 25, 70, 36, 79, 10, 57, 10,\n",
       "       98, 66, 88, 48, 48, 38, 19, 54, 49, 24, 23, 25, 34, 13,  8])"
      ]
     },
     "execution_count": 3,
     "metadata": {},
     "output_type": "execute_result"
    }
   ],
   "source": [
    "x"
   ]
  },
  {
   "cell_type": "code",
   "execution_count": 4,
   "id": "e48811d9",
   "metadata": {},
   "outputs": [
    {
     "data": {
      "text/plain": [
       "array([1.        , 0.50515464, 0.26804124, 0.94845361, 0.83505155,\n",
       "       0.50515464, 0.32989691, 0.36082474, 0.68041237, 0.22680412,\n",
       "       0.25773196, 0.40206186, 0.70103093, 0.96907216, 0.31958763,\n",
       "       0.28865979, 0.29896907, 0.6185567 , 0.75257732, 0.31958763,\n",
       "       0.90721649, 0.30927835, 0.71134021, 0.94845361, 0.28865979,\n",
       "       0.57731959, 0.53608247, 0.77319588, 0.45360825, 0.95876289,\n",
       "       0.17525773, 0.43298969, 0.55670103, 0.53608247, 0.05154639,\n",
       "       0.46391753, 0.        , 0.8556701 , 0.10309278, 0.03092784,\n",
       "       0.59793814, 0.19587629, 0.6185567 , 0.88659794, 0.84536082,\n",
       "       0.64948454, 0.46391753, 0.68041237, 0.40206186, 0.25773196,\n",
       "       0.63917526, 0.31958763, 0.60824742, 0.51546392, 0.26804124,\n",
       "       0.90721649, 0.06185567, 0.27835052, 0.12371134, 0.05154639,\n",
       "       0.93814433, 0.22680412, 0.97938144, 0.30927835, 0.26804124,\n",
       "       0.64948454, 0.08247423, 0.74226804, 0.12371134, 0.10309278,\n",
       "       0.28865979, 0.30927835, 0.04123711, 0.70103093, 0.20618557,\n",
       "       0.64948454, 0.50515464, 0.41237113, 0.24742268, 0.71134021,\n",
       "       0.36082474, 0.80412371, 0.09278351, 0.57731959, 0.09278351,\n",
       "       1.        , 0.67010309, 0.89690722, 0.48453608, 0.48453608,\n",
       "       0.3814433 , 0.18556701, 0.54639175, 0.49484536, 0.2371134 ,\n",
       "       0.22680412, 0.24742268, 0.34020619, 0.12371134, 0.07216495])"
      ]
     },
     "execution_count": 4,
     "metadata": {},
     "output_type": "execute_result"
    }
   ],
   "source": [
    "(x - np.min(x)) / (np.max(x) - np.min(x))"
   ]
  },
  {
   "cell_type": "code",
   "execution_count": 5,
   "id": "fc28dad0",
   "metadata": {},
   "outputs": [],
   "source": [
    "X = np.random.randint(0, 100, size=(50, 2))"
   ]
  },
  {
   "cell_type": "code",
   "execution_count": 6,
   "id": "b9100692",
   "metadata": {},
   "outputs": [
    {
     "data": {
      "text/plain": [
       "array([[69, 98],\n",
       "       [10, 61],\n",
       "       [76, 43],\n",
       "       [47, 58],\n",
       "       [17, 65],\n",
       "       [98, 60],\n",
       "       [90,  5],\n",
       "       [50,  5],\n",
       "       [13, 32],\n",
       "       [20, 11]])"
      ]
     },
     "execution_count": 6,
     "metadata": {},
     "output_type": "execute_result"
    }
   ],
   "source": [
    "X[:10, :]"
   ]
  },
  {
   "cell_type": "code",
   "execution_count": 7,
   "id": "52d1d441",
   "metadata": {},
   "outputs": [],
   "source": [
    "X = np.array(X, dtype=float)"
   ]
  },
  {
   "cell_type": "code",
   "execution_count": 8,
   "id": "63031e16",
   "metadata": {},
   "outputs": [],
   "source": [
    "X[:,0] = ((X[:,0] - np.min(X[:,0])) / (np.max(X[:, 0]) - np.min(X[:,0])))"
   ]
  },
  {
   "cell_type": "code",
   "execution_count": 9,
   "id": "eb2875d1",
   "metadata": {},
   "outputs": [],
   "source": [
    "X[:,1] = ((X[:,1] - np.min(X[:,1])) / (np.max(X[:, 1]) - np.min(X[:,1])))"
   ]
  },
  {
   "cell_type": "code",
   "execution_count": 12,
   "id": "a7771a85",
   "metadata": {},
   "outputs": [
    {
     "data": {
      "image/png": "[encoded data removed]",
      "text/plain": [
       "<Figure size 432x288 with 1 Axes>"
      ]
     },
     "metadata": {
      "needs_background": "light"
     },
     "output_type": "display_data"
    }
   ],
   "source": [
    "plt.scatter(X[:,0], X[:,1])\n",
    "plt.show()"
   ]
  },
  {
   "cell_type": "code",
   "execution_count": 13,
   "id": "2996dac5",
   "metadata": {},
   "outputs": [
    {
     "data": {
      "text/plain": [
       "0.4995918367346939"
      ]
     },
     "execution_count": 13,
     "metadata": {},
     "output_type": "execute_result"
    }
   ],
   "source": [
    "np.mean(X[:,0])"
   ]
  },
  {
   "cell_type": "code",
   "execution_count": 14,
   "id": "ad5dfd77",
   "metadata": {},
   "outputs": [
    {
     "data": {
      "text/plain": [
       "0.41775510204081634"
      ]
     },
     "execution_count": 14,
     "metadata": {},
     "output_type": "execute_result"
    }
   ],
   "source": [
    "np.mean(X[:,1])"
   ]
  },
  {
   "cell_type": "code",
   "execution_count": 15,
   "id": "1c75a761",
   "metadata": {},
   "outputs": [
    {
     "data": {
      "text/plain": [
       "0.30631939243066547"
      ]
     },
     "execution_count": 15,
     "metadata": {},
     "output_type": "execute_result"
    }
   ],
   "source": [
    "np.std(X[:,0])"
   ]
  },
  {
   "cell_type": "code",
   "execution_count": 16,
   "id": "81c91a8c",
   "metadata": {},
   "outputs": [
    {
     "data": {
      "text/plain": [
       "0.2848486156906705"
      ]
     },
     "execution_count": 16,
     "metadata": {},
     "output_type": "execute_result"
    }
   ],
   "source": [
    "np.std(X[:,1])"
   ]
  },
  {
   "cell_type": "markdown",
   "id": "b42b37b8",
   "metadata": {},
   "source": [
    "## 均值方差归一化 Standardization"
   ]
  },
  {
   "cell_type": "code",
   "execution_count": 17,
   "id": "52674e13",
   "metadata": {},
   "outputs": [],
   "source": [
    "X2 = np.random.randint(0, 100, size=(50, 2))\n",
    "X2 = np.array(X2, dtype=float)"
   ]
  },
  {
   "cell_type": "code",
   "execution_count": 18,
   "id": "57400431",
   "metadata": {},
   "outputs": [],
   "source": [
    "X2[:, 0] = (X2[:, 0] - np.mean(X2[:, 0])) / np.std(X2[:, 0])"
   ]
  },
  {
   "cell_type": "code",
   "execution_count": 19,
   "id": "83cb6c51",
   "metadata": {},
   "outputs": [],
   "source": [
    "X2[:, 1] = (X2[:, 1] - np.mean(X2[:, 1])) / np.std(X2[:, 1])"
   ]
  },
  {
   "cell_type": "code",
   "execution_count": 20,
   "id": "f50a05a4",
   "metadata": {},
   "outputs": [
    {
     "data": {
      "image/png": "[encoded data removed]",
      "text/plain": [
       "<Figure size 432x288 with 1 Axes>"
      ]
     },
     "metadata": {
      "needs_background": "light"
     },
     "output_type": "display_data"
    }
   ],
   "source": [
    "plt.scatter(X2[:, 0], X2[:, 1])\n",
    "plt.show()"
   ]
  },
  {
   "cell_type": "code",
   "execution_count": 22,
   "id": "75af2e86",
   "metadata": {},
   "outputs": [
    {
     "data": {
      "text/plain": [
       "-7.105427357601002e-17"
      ]
     },
     "execution_count": 22,
     "metadata": {},
     "output_type": "execute_result"
    }
   ],
   "source": [
    "np.mean(X2[:, 0])"
   ]
  },
  {
   "cell_type": "code",
   "execution_count": 23,
   "id": "06c55bb4",
   "metadata": {},
   "outputs": [
    {
     "data": {
      "text/plain": [
       "0.9999999999999998"
      ]
     },
     "execution_count": 23,
     "metadata": {},
     "output_type": "execute_result"
    }
   ],
   "source": [
    "np.std(X2[:, 0])"
   ]
  },
  {
   "cell_type": "code",
   "execution_count": 24,
   "id": "a62430a5",
   "metadata": {},
   "outputs": [
    {
     "data": {
      "text/plain": [
       "6.217248937900877e-17"
      ]
     },
     "execution_count": 24,
     "metadata": {},
     "output_type": "execute_result"
    }
   ],
   "source": [
    "np.mean(X2[:, 1])"
   ]
  },
  {
   "cell_type": "code",
   "execution_count": 25,
   "id": "554db885",
   "metadata": {},
   "outputs": [
    {
     "data": {
      "text/plain": [
       "1.0"
      ]
     },
     "execution_count": 25,
     "metadata": {},
     "output_type": "execute_result"
    }
   ],
   "source": [
    "np.std(X2[:, 1])"
   ]
  }
 ],
 "metadata": {
  "kernelspec": {
   "display_name": "Python 3",
   "language": "python",
   "name": "python3"
  },
  "language_info": {
   "codemirror_mode": {
    "name": "ipython",
    "version": 3
   },
   "file_extension": ".py",
   "mimetype": "text/x-python",
   "name": "python",
   "nbconvert_exporter": "python",
   "pygments_lexer": "ipython3",
   "version": "3.8.8"
  }
 },
 "nbformat": 4,
 "nbformat_minor": 5
}
