{
 "cells": [
  {
   "cell_type": "code",
   "execution_count": 1,
   "id": "e4de956b",
   "metadata": {},
   "outputs": [],
   "source": [
    "import numpy as np\n",
    "from sklearn import datasets"
   ]
  },
  {
   "cell_type": "code",
   "execution_count": 2,
   "id": "381ff65c",
   "metadata": {},
   "outputs": [],
   "source": [
    "digits = datasets.load_digits()\n",
    "X = digits.data\n",
    "y = digits.target"
   ]
  },
  {
   "cell_type": "code",
   "execution_count": 3,
   "id": "ecc5c6b4",
   "metadata": {},
   "outputs": [],
   "source": [
    "from sklearn.model_selection import train_test_split\n",
    "\n",
    "X_train, X_test, y_train, y_test = train_test_split(X, y, test_size=0.2, random_state=666)"
   ]
  },
  {
   "cell_type": "code",
   "execution_count": 4,
   "id": "2ee018b1",
   "metadata": {},
   "outputs": [
    {
     "data": {
      "text/plain": [
       "0.9916666666666667"
      ]
     },
     "execution_count": 4,
     "metadata": {},
     "output_type": "execute_result"
    }
   ],
   "source": [
    "from sklearn.neighbors import KNeighborsClassifier\n",
    "\n",
    "knn_cls = KNeighborsClassifier(n_neighbors=3)\n",
    "knn_cls.fit(X_train, y_train)\n",
    "knn_cls.score(X_test, y_test)"
   ]
  },
  {
   "cell_type": "markdown",
   "id": "75d3ea18",
   "metadata": {},
   "source": [
    "# 寻找最好的K"
   ]
  },
  {
   "cell_type": "code",
   "execution_count": 8,
   "id": "ed7f5c8e",
   "metadata": {},
   "outputs": [
    {
     "name": "stdout",
     "output_type": "stream",
     "text": [
      "best_K: 3\n",
      "best_score: 0.9916666666666667\n"
     ]
    }
   ],
   "source": [
    "best_score = 0.0\n",
    "best_K = -1\n",
    "\n",
    "for k in range(1, 11):\n",
    "    knn_cls = KNeighborsClassifier(n_neighbors=k)\n",
    "    knn_cls.fit(X_train, y_train)\n",
    "    score = knn_cls.score(X_test, y_test)\n",
    "    if score > best_score:\n",
    "        best_K = k\n",
    "        best_score = score\n",
    "        \n",
    "print(\"best_K:\", best_K)\n",
    "print(\"best_score:\", best_score)"
   ]
  },
  {
   "cell_type": "markdown",
   "id": "5af5ace1",
   "metadata": {},
   "source": [
    "# 是否考虑距离？"
   ]
  },
  {
   "cell_type": "code",
   "execution_count": 9,
   "id": "dbd8f167",
   "metadata": {},
   "outputs": [
    {
     "name": "stdout",
     "output_type": "stream",
     "text": [
      "best_K: 3\n",
      "best_score: 0.9916666666666667\n",
      "best_weights: uniform\n"
     ]
    }
   ],
   "source": [
    "best_weights = ''\n",
    "best_score = 0.0\n",
    "best_K = -1\n",
    "\n",
    "for method in ['uniform', 'distance']:\n",
    "    for k in range(1, 11):\n",
    "        knn_cls = KNeighborsClassifier(n_neighbors=k, weights=method)\n",
    "        knn_cls.fit(X_train, y_train)\n",
    "        score = knn_cls.score(X_test, y_test)\n",
    "        if score > best_score:\n",
    "            best_K = k\n",
    "            best_score = score\n",
    "            best_weights = method\n",
    "        \n",
    "print(\"best_K:\", best_K)\n",
    "print(\"best_score:\", best_score)\n",
    "print(\"best_weights:\", best_weights)"
   ]
  },
  {
   "cell_type": "markdown",
   "id": "c365dc17",
   "metadata": {},
   "source": [
    "## 曼哈顿距离\n",
    "\n",
    "$\\sum_{i=1}^n|X_i ^a - X_i^b|$"
   ]
  },
  {
   "cell_type": "markdown",
   "id": "eeb848a6",
   "metadata": {},
   "source": [
    "## 明可夫斯基距离\n",
    "\n",
    "$({\\sum_{i=1}^n|X_i ^a - X_i^b|^p})^{\\frac 1p}$\n"
   ]
  },
  {
   "cell_type": "markdown",
   "id": "cb2bdaae",
   "metadata": {},
   "source": [
    "### 搜索闵可夫斯基距离相应的P"
   ]
  },
  {
   "cell_type": "code",
   "execution_count": 13,
   "id": "495d6a40",
   "metadata": {},
   "outputs": [
    {
     "name": "stdout",
     "output_type": "stream",
     "text": [
      "best_K: 3\n",
      "best_score: 0.9916666666666667\n",
      "best_p: 5\n",
      "Wall time: 13.6 s\n"
     ]
    }
   ],
   "source": [
    "%%time\n",
    "best_p = -1\n",
    "best_score = 0.0\n",
    "best_K = -1\n",
    "\n",
    "for k in range(1, 11):\n",
    "    for p in range(1, 6):\n",
    "        knn_cls = KNeighborsClassifier(n_neighbors=k, weights='distance', p = p)\n",
    "        knn_cls.fit(X_train, y_train)\n",
    "        score = knn_cls.score(X_test, y_test)\n",
    "        if score > best_score:\n",
    "            best_K = k\n",
    "            best_score = score\n",
    "            best_p = p\n",
    "        \n",
    "print(\"best_K:\", best_K)\n",
    "print(\"best_score:\", best_score)\n",
    "print(\"best_p:\", p)"
   ]
  },
  {
   "cell_type": "code",
   "execution_count": null,
   "id": "0ebf52f5",
   "metadata": {},
   "outputs": [],
   "source": []
  }
 ],
 "metadata": {
  "kernelspec": {
   "display_name": "Python 3",
   "language": "python",
   "name": "python3"
  },
  "language_info": {
   "codemirror_mode": {
    "name": "ipython",
    "version": 3
   },
   "file_extension": ".py",
   "mimetype": "text/x-python",
   "name": "python",
   "nbconvert_exporter": "python",
   "pygments_lexer": "ipython3",
   "version": "3.8.8"
  }
 },
 "nbformat": 4,
 "nbformat_minor": 5
}
