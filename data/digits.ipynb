{
 "cells": [
  {
   "cell_type": "code",
   "execution_count": 1,
   "metadata": {},
   "outputs": [],
   "source": [
    "import numpy as np\n",
    "from matplotlib import pyplot as plt\n",
    "from sklearn import datasets"
   ]
  },
  {
   "cell_type": "code",
   "execution_count": 2,
   "metadata": {},
   "outputs": [],
   "source": [
    "digits = datasets.load_digits()"
   ]
  },
  {
   "cell_type": "code",
   "execution_count": 3,
   "metadata": {},
   "outputs": [
    {
     "name": "stdout",
     "output_type": "stream",
     "text": [
      ".. _digits_dataset:\n",
      "\n",
      "Optical recognition of handwritten digits dataset\n",
      "--------------------------------------------------\n",
      "\n",
      "**Data Set Characteristics:**\n",
      "\n",
      "    :Number of Instances: 5620\n",
      "    :Number of Attributes: 64\n",
      "    :Attribute Information: 8x8 image of integer pixels in the range 0..16.\n",
      "    :Missing Attribute Values: None\n",
      "    :Creator: E. Alpaydin (alpaydin '@' boun.edu.tr)\n",
      "    :Date: July; 1998\n",
      "\n",
      "This is a copy of the test set of the UCI ML hand-written digits datasets\n",
      "https://archive.ics.uci.edu/ml/datasets/Optical+Recognition+of+Handwritten+Digits\n",
      "\n",
      "The data set contains images of hand-written digits: 10 classes where\n",
      "each class refers to a digit.\n",
      "\n",
      "Preprocessing programs made available by NIST were used to extract\n",
      "normalized bitmaps of handwritten digits from a preprinted form. From a\n",
      "total of 43 people, 30 contributed to the training set and different 13\n",
      "to the test set. 32x32 bitmaps are divided into nonoverlapping blocks of\n",
      "4x4 and the number of on pixels are counted in each block. This generates\n",
      "an input matrix of 8x8 where each element is an integer in the range\n",
      "0..16. This reduces dimensionality and gives invariance to small\n",
      "distortions.\n",
      "\n",
      "For info on NIST preprocessing routines, see M. D. Garris, J. L. Blue, G.\n",
      "T. Candela, D. L. Dimmick, J. Geist, P. J. Grother, S. A. Janet, and C.\n",
      "L. Wilson, NIST Form-Based Handprint Recognition System, NISTIR 5469,\n",
      "1994.\n",
      "\n",
      ".. topic:: References\n",
      "\n",
      "  - C. Kaynak (1995) Methods of Combining Multiple Classifiers and Their\n",
      "    Applications to Handwritten Digit Recognition, MSc Thesis, Institute of\n",
      "    Graduate Studies in Science and Engineering, Bogazici University.\n",
      "  - E. Alpaydin, C. Kaynak (1998) Cascading Classifiers, Kybernetika.\n",
      "  - Ken Tang and Ponnuthurai N. Suganthan and Xi Yao and A. Kai Qin.\n",
      "    Linear dimensionalityreduction using relevance weighted LDA. School of\n",
      "    Electrical and Electronic Engineering Nanyang Technological University.\n",
      "    2005.\n",
      "  - Claudio Gentile. A New Approximate Maximal Margin Classification\n",
      "    Algorithm. NIPS. 2000.\n"
     ]
    }
   ],
   "source": [
    "print(digits.DESCR)"
   ]
  },
  {
   "cell_type": "code",
   "execution_count": 4,
   "metadata": {},
   "outputs": [],
   "source": [
    "x = digits.data\n",
    "y = digits.target"
   ]
  },
  {
   "cell_type": "code",
   "execution_count": 5,
   "metadata": {},
   "outputs": [],
   "source": [
    "from sklearn.model_selection import train_test_split\n",
    "import matplotlib"
   ]
  },
  {
   "cell_type": "code",
   "execution_count": 6,
   "metadata": {},
   "outputs": [],
   "source": [
    "x_train, x_test, y_train, y_test = train_test_split(x, y)"
   ]
  },
  {
   "cell_type": "code",
   "execution_count": 7,
   "metadata": {},
   "outputs": [
    {
     "data": {
      "text/plain": [
       "<matplotlib.image.AxesImage at 0x7fee2002a670>"
      ]
     },
     "execution_count": 7,
     "metadata": {},
     "output_type": "execute_result"
    },
    {
     "data": {
      "image/png": "[encoded data removed]",
      "text/plain": [
       "<Figure size 432x288 with 1 Axes>"
      ]
     },
     "metadata": {
      "needs_background": "light"
     },
     "output_type": "display_data"
    }
   ],
   "source": [
    "some_digits = x[3]\n",
    "some_digits_image = some_digits.reshape(8, 8)\n",
    "plt.imshow(some_digits_image, cmap=matplotlib.cm.binary)"
   ]
  },
  {
   "cell_type": "code",
   "execution_count": 8,
   "metadata": {},
   "outputs": [],
   "source": [
    "from sklearn.neighbors import KNeighborsClassifier"
   ]
  },
  {
   "cell_type": "code",
   "execution_count": 9,
   "metadata": {},
   "outputs": [],
   "source": [
    "knn_clf = KNeighborsClassifier(3)"
   ]
  },
  {
   "cell_type": "code",
   "execution_count": 10,
   "metadata": {},
   "outputs": [
    {
     "data": {
      "text/plain": [
       "KNeighborsClassifier(n_neighbors=3)"
      ]
     },
     "execution_count": 10,
     "metadata": {},
     "output_type": "execute_result"
    }
   ],
   "source": [
    "knn_clf.fit(x_train, y_train)"
   ]
  },
  {
   "cell_type": "code",
   "execution_count": 11,
   "metadata": {},
   "outputs": [],
   "source": [
    "y_predict = knn_clf.predict(x_test)"
   ]
  },
  {
   "cell_type": "code",
   "execution_count": 12,
   "metadata": {},
   "outputs": [
    {
     "data": {
      "text/plain": [
       "array([8, 8, 0, 3, 8, 5, 5, 6, 1, 2, 9, 6, 8, 9, 7, 4, 7, 5, 7, 6, 4, 9,\n",
       "       0, 3, 1, 6, 3, 0, 3, 7, 7, 0, 8, 9, 7, 6, 6, 9, 1, 1, 3, 4, 7, 2,\n",
       "       3, 9, 2, 7, 6, 4, 8, 2, 8, 4, 5, 7, 2, 4, 8, 0, 5, 0, 1, 3, 0, 7,\n",
       "       8, 2, 5, 6, 8, 6, 2, 8, 9, 3, 3, 9, 4, 7, 5, 1, 0, 3, 1, 5, 3, 9,\n",
       "       2, 4, 0, 6, 1, 5, 2, 6, 9, 4, 1, 3, 3, 7, 1, 5, 1, 9, 4, 4, 8, 7,\n",
       "       3, 6, 3, 8, 2, 1, 4, 6, 5, 6, 3, 3, 0, 1, 6, 5, 0, 4, 5, 5, 8, 0,\n",
       "       4, 3, 9, 0, 3, 7, 5, 5, 4, 9, 0, 2, 7, 8, 0, 3, 0, 9, 6, 6, 1, 5,\n",
       "       7, 8, 0, 7, 1, 5, 1, 3, 5, 4, 4, 6, 9, 3, 5, 6, 6, 0, 6, 7, 9, 5,\n",
       "       7, 2, 2, 8, 3, 0, 7, 5, 8, 4, 1, 0, 2, 7, 8, 1, 9, 1, 9, 1, 5, 3,\n",
       "       3, 6, 6, 1, 7, 7, 2, 5, 4, 9, 3, 6, 4, 2, 3, 0, 3, 4, 9, 3, 6, 9,\n",
       "       1, 8, 4, 9, 1, 1, 5, 9, 1, 0, 9, 2, 0, 6, 6, 5, 8, 2, 6, 6, 8, 7,\n",
       "       9, 9, 7, 4, 6, 7, 7, 2, 9, 3, 9, 1, 1, 4, 1, 8, 2, 8, 9, 5, 1, 5,\n",
       "       0, 5, 9, 1, 5, 5, 1, 9, 3, 8, 7, 2, 5, 3, 6, 2, 9, 9, 2, 8, 2, 7,\n",
       "       1, 6, 5, 1, 7, 3, 4, 6, 8, 6, 0, 5, 2, 9, 4, 0, 2, 4, 7, 8, 2, 5,\n",
       "       4, 8, 6, 0, 4, 8, 5, 2, 0, 6, 5, 2, 4, 7, 9, 1, 2, 9, 1, 7, 3, 1,\n",
       "       4, 9, 9, 7, 2, 3, 7, 0, 3, 3, 1, 2, 4, 9, 2, 4, 3, 4, 6, 8, 0, 1,\n",
       "       7, 4, 1, 3, 8, 7, 5, 4, 9, 8, 3, 4, 9, 2, 9, 8, 2, 9, 4, 1, 2, 9,\n",
       "       6, 8, 6, 8, 1, 4, 1, 9, 0, 5, 1, 9, 2, 9, 5, 4, 0, 6, 2, 7, 9, 3,\n",
       "       1, 4, 4, 7, 6, 6, 8, 5, 8, 8, 7, 2, 7, 7, 8, 7, 8, 9, 1, 5, 2, 7,\n",
       "       7, 3, 2, 0, 9, 6, 0, 6, 0, 6, 1, 0, 8, 8, 3, 7, 0, 3, 2, 6, 4, 5,\n",
       "       3, 2, 9, 4, 2, 0, 9, 0, 4, 8])"
      ]
     },
     "execution_count": 12,
     "metadata": {},
     "output_type": "execute_result"
    }
   ],
   "source": [
    "y_predict"
   ]
  },
  {
   "cell_type": "code",
   "execution_count": 13,
   "metadata": {},
   "outputs": [
    {
     "data": {
      "text/plain": [
       "array([8, 8, 0, 3, 8, 5, 5, 6, 1, 2, 9, 6, 8, 9, 7, 4, 7, 5, 7, 6, 4, 9,\n",
       "       0, 3, 1, 6, 3, 0, 3, 7, 7, 0, 8, 9, 7, 6, 6, 9, 1, 1, 3, 4, 7, 2,\n",
       "       3, 9, 2, 7, 6, 4, 8, 2, 8, 4, 5, 7, 2, 4, 8, 0, 5, 0, 1, 3, 0, 7,\n",
       "       8, 2, 5, 6, 8, 6, 2, 8, 9, 3, 3, 9, 4, 7, 5, 1, 0, 3, 1, 5, 3, 9,\n",
       "       2, 4, 0, 6, 1, 5, 2, 6, 9, 4, 1, 3, 3, 7, 1, 5, 1, 9, 4, 4, 8, 7,\n",
       "       3, 6, 3, 8, 2, 1, 4, 6, 5, 6, 3, 3, 0, 1, 6, 5, 0, 4, 5, 5, 8, 0,\n",
       "       4, 3, 5, 0, 3, 7, 5, 5, 4, 9, 0, 2, 7, 8, 0, 3, 0, 9, 6, 6, 9, 5,\n",
       "       7, 8, 0, 7, 1, 5, 1, 3, 5, 4, 4, 6, 9, 3, 5, 6, 6, 0, 6, 7, 9, 5,\n",
       "       7, 2, 2, 8, 3, 0, 7, 5, 8, 4, 1, 0, 2, 3, 8, 1, 9, 1, 9, 1, 5, 3,\n",
       "       3, 6, 6, 1, 7, 7, 2, 5, 4, 9, 3, 6, 4, 2, 3, 0, 3, 4, 9, 3, 6, 9,\n",
       "       1, 8, 4, 9, 1, 1, 5, 9, 1, 0, 9, 2, 0, 6, 6, 5, 8, 2, 6, 6, 8, 7,\n",
       "       9, 9, 7, 4, 6, 7, 7, 2, 9, 3, 9, 1, 1, 4, 1, 8, 2, 8, 9, 5, 1, 5,\n",
       "       0, 5, 9, 1, 5, 5, 1, 9, 3, 8, 7, 2, 5, 3, 6, 2, 9, 9, 2, 8, 2, 7,\n",
       "       1, 6, 5, 1, 7, 9, 4, 6, 8, 6, 0, 5, 2, 9, 4, 0, 2, 4, 7, 8, 2, 5,\n",
       "       4, 8, 6, 0, 4, 8, 5, 2, 0, 6, 5, 2, 4, 7, 9, 1, 2, 9, 1, 7, 3, 1,\n",
       "       4, 9, 9, 7, 2, 3, 7, 0, 3, 3, 1, 2, 4, 9, 2, 4, 3, 4, 6, 8, 0, 1,\n",
       "       7, 4, 1, 9, 8, 7, 5, 4, 9, 8, 3, 4, 9, 2, 9, 8, 2, 9, 4, 1, 2, 9,\n",
       "       6, 8, 6, 8, 1, 4, 1, 9, 0, 5, 1, 9, 2, 9, 5, 4, 0, 6, 2, 7, 9, 3,\n",
       "       1, 4, 4, 7, 6, 6, 8, 5, 8, 8, 7, 2, 7, 7, 8, 7, 8, 9, 1, 5, 2, 7,\n",
       "       7, 3, 2, 0, 9, 6, 0, 6, 0, 6, 1, 0, 8, 8, 3, 7, 0, 3, 2, 6, 4, 5,\n",
       "       3, 2, 9, 4, 2, 0, 9, 0, 4, 8])"
      ]
     },
     "execution_count": 13,
     "metadata": {},
     "output_type": "execute_result"
    }
   ],
   "source": [
    "y_test"
   ]
  },
  {
   "cell_type": "code",
   "execution_count": 14,
   "metadata": {},
   "outputs": [
    {
     "data": {
      "text/plain": [
       "0.9888888888888889"
      ]
     },
     "execution_count": 14,
     "metadata": {},
     "output_type": "execute_result"
    }
   ],
   "source": [
    "sum(y_predict == y_test) / len(y_test)"
   ]
  },
  {
   "cell_type": "code",
   "execution_count": 15,
   "metadata": {},
   "outputs": [],
   "source": [
    "from sklearn.metrics import accuracy_score"
   ]
  },
  {
   "cell_type": "code",
   "execution_count": 16,
   "metadata": {},
   "outputs": [
    {
     "data": {
      "text/plain": [
       "0.9888888888888889"
      ]
     },
     "execution_count": 16,
     "metadata": {},
     "output_type": "execute_result"
    }
   ],
   "source": [
    "accuracy_score(y_test, y_predict)"
   ]
  },
  {
   "cell_type": "code",
   "execution_count": 21,
   "metadata": {
    "scrolled": true
   },
   "outputs": [
    {
     "data": {
      "text/plain": [
       "0.9888888888888889"
      ]
     },
     "execution_count": 21,
     "metadata": {},
     "output_type": "execute_result"
    }
   ],
   "source": [
    "knn_clf.score(x_test, y_test)"
   ]
  },
  {
   "cell_type": "markdown",
   "metadata": {},
   "source": [
    "### 寻找最好的K"
   ]
  },
  {
   "cell_type": "code",
   "execution_count": 24,
   "metadata": {},
   "outputs": [
    {
     "name": "stdout",
     "output_type": "stream",
     "text": [
      "best_k 3\n",
      "best_score 0.9866666666666667\n"
     ]
    }
   ],
   "source": [
    "best_k = -1\n",
    "best_score = 0.0\n",
    "for k in range(1,11):\n",
    "    knn_clf = KNeighborsClassifier(n_neighbors=k)\n",
    "    knn_clf.fit(x_train, y_train)\n",
    "    score = knn_clf.score(x_test, y_test)\n",
    "    if score > best_score:\n",
    "        best_k = k\n",
    "        best_score = score\n",
    "print(\"best_k:\", best_k)\n",
    "print(\"best_score:\", score)"
   ]
  },
  {
   "cell_type": "markdown",
   "metadata": {},
   "source": [
    "### 距离问题"
   ]
  },
  {
   "cell_type": "code",
   "execution_count": 27,
   "metadata": {},
   "outputs": [
    {
     "name": "stdout",
     "output_type": "stream",
     "text": [
      "best_k: 3\n",
      "best_score: 0.9888888888888889\n",
      "best_method: uniform\n"
     ]
    }
   ],
   "source": [
    "best_method = \"\"\n",
    "best_score = 0.0\n",
    "best_k = -1\n",
    "for method in [\"uniform\", \"distance\"]:\n",
    "    for k in range(1,11):\n",
    "        knn_clf = KNeighborsClassifier(n_neighbors=k, weights=method)\n",
    "        knn_clf.fit(x_train, y_train)\n",
    "        score = knn_clf.score(x_test, y_test)\n",
    "        if score > best_score:\n",
    "            best_k = k\n",
    "            best_score = score\n",
    "            best_method = method\n",
    "print(\"best_k:\", best_k)\n",
    "print(\"best_score:\", score)\n",
    "print(\"best_method:\", best_method)"
   ]
  },
  {
   "cell_type": "markdown",
   "metadata": {},
   "source": [
    "### 搜索明科斯基距离"
   ]
  },
  {
   "cell_type": "code",
   "execution_count": 28,
   "metadata": {},
   "outputs": [
    {
     "name": "stdout",
     "output_type": "stream",
     "text": [
      "best_p: 5\n",
      "best_score: 0.9888888888888889\n",
      "best_k: 10\n",
      "CPU times: user 2.94 s, sys: 110 ms, total: 3.05 s\n",
      "Wall time: 3.31 s\n"
     ]
    }
   ],
   "source": [
    "%%time\n",
    "best_p = -1\n",
    "best_score = 0.0\n",
    "best_k = -1\n",
    "\n",
    "for k in range(1,11):\n",
    "    for p in range(1,6):\n",
    "        knn_clf = KNeighborsClassifier(n_neighbors=k, weights=\"distance\")\n",
    "        knn_clf.fit(x_train, y_train)\n",
    "        score = knn_clf.score(x_test, y_test)\n",
    "        if score > best_score:\n",
    "            best_k = k\n",
    "            best_score = score\n",
    "            best_p = p\n",
    "print(\"best_p:\", p)\n",
    "print(\"best_score:\", score)\n",
    "print(\"best_k:\", k)"
   ]
  },
  {
   "cell_type": "markdown",
   "metadata": {},
   "source": [
    "### Grid Search"
   ]
  },
  {
   "cell_type": "code",
   "execution_count": 29,
   "metadata": {},
   "outputs": [],
   "source": [
    "param_grid = [\n",
    "    {\n",
    "        \"weights\": [\"uniform\"],\n",
    "        \"n_neighbors\": [i for i in range(1, 11)]\n",
    "    },\n",
    "    {\n",
    "        \"weights\": [\"distance\"],\n",
    "        \"n_neighbors\": [i for i in range(1, 11)],\n",
    "        \"p\": [i for i in range(1, 6)]\n",
    "    }\n",
    "]"
   ]
  },
  {
   "cell_type": "code",
   "execution_count": 30,
   "metadata": {},
   "outputs": [],
   "source": [
    "knn_clf = KNeighborsClassifier()"
   ]
  },
  {
   "cell_type": "code",
   "execution_count": 31,
   "metadata": {},
   "outputs": [],
   "source": [
    "from sklearn.model_selection import GridSearchCV"
   ]
  },
  {
   "cell_type": "code",
   "execution_count": 32,
   "metadata": {},
   "outputs": [],
   "source": [
    "grid_search = GridSearchCV(knn_clf, param_grid)"
   ]
  },
  {
   "cell_type": "code",
   "execution_count": 33,
   "metadata": {},
   "outputs": [
    {
     "name": "stdout",
     "output_type": "stream",
     "text": [
      "CPU times: user 51.5 s, sys: 1.2 s, total: 52.7 s\n",
      "Wall time: 57.1 s\n"
     ]
    },
    {
     "data": {
      "text/plain": [
       "GridSearchCV(estimator=KNeighborsClassifier(),\n",
       "             param_grid=[{'n_neighbors': [1, 2, 3, 4, 5, 6, 7, 8, 9, 10],\n",
       "                          'weights': ['uniform']},\n",
       "                         {'n_neighbors': [1, 2, 3, 4, 5, 6, 7, 8, 9, 10],\n",
       "                          'p': [1, 2, 3, 4, 5], 'weights': ['distance']}])"
      ]
     },
     "execution_count": 33,
     "metadata": {},
     "output_type": "execute_result"
    }
   ],
   "source": [
    "%%time\n",
    "grid_search.fit(x_train, y_train)"
   ]
  },
  {
   "cell_type": "code",
   "execution_count": 34,
   "metadata": {},
   "outputs": [
    {
     "data": {
      "text/plain": [
       "KNeighborsClassifier(n_neighbors=1)"
      ]
     },
     "execution_count": 34,
     "metadata": {},
     "output_type": "execute_result"
    }
   ],
   "source": [
    "grid_search.best_estimator_"
   ]
  },
  {
   "cell_type": "code",
   "execution_count": 35,
   "metadata": {},
   "outputs": [
    {
     "data": {
      "text/plain": [
       "0.9881178576345861"
      ]
     },
     "execution_count": 35,
     "metadata": {},
     "output_type": "execute_result"
    }
   ],
   "source": [
    "grid_search.best_score_"
   ]
  },
  {
   "cell_type": "code",
   "execution_count": 36,
   "metadata": {},
   "outputs": [
    {
     "data": {
      "text/plain": [
       "{'n_neighbors': 1, 'weights': 'uniform'}"
      ]
     },
     "execution_count": 36,
     "metadata": {},
     "output_type": "execute_result"
    }
   ],
   "source": [
    "grid_search.best_params_"
   ]
  },
  {
   "cell_type": "code",
   "execution_count": 37,
   "metadata": {},
   "outputs": [],
   "source": [
    "knn_clf = grid_search.best_estimator_"
   ]
  },
  {
   "cell_type": "code",
   "execution_count": 38,
   "metadata": {},
   "outputs": [
    {
     "data": {
      "text/plain": [
       "array([8, 8, 0, 3, 8, 5, 5, 6, 1, 2, 9, 6, 8, 9, 7, 4, 7, 5, 7, 6, 4, 9,\n",
       "       0, 3, 1, 6, 3, 0, 3, 7, 7, 0, 8, 9, 9, 6, 6, 9, 1, 1, 3, 4, 7, 2,\n",
       "       3, 9, 2, 7, 6, 4, 8, 2, 8, 4, 5, 7, 2, 4, 8, 0, 5, 0, 1, 3, 0, 7,\n",
       "       8, 2, 5, 6, 8, 6, 2, 8, 9, 3, 3, 9, 4, 7, 5, 1, 0, 3, 1, 5, 3, 9,\n",
       "       2, 4, 0, 6, 1, 5, 2, 6, 9, 4, 1, 3, 3, 7, 1, 5, 1, 9, 4, 4, 8, 7,\n",
       "       3, 6, 3, 8, 2, 1, 4, 6, 5, 6, 3, 3, 0, 1, 6, 5, 0, 4, 5, 5, 8, 0,\n",
       "       4, 3, 5, 0, 3, 7, 5, 5, 4, 9, 0, 2, 7, 8, 0, 3, 0, 9, 6, 6, 1, 5,\n",
       "       7, 8, 0, 7, 1, 5, 1, 3, 5, 4, 4, 6, 9, 3, 5, 6, 6, 0, 6, 7, 9, 5,\n",
       "       7, 2, 2, 8, 3, 0, 7, 5, 8, 4, 1, 0, 2, 7, 1, 1, 9, 1, 9, 1, 5, 3,\n",
       "       3, 6, 6, 1, 7, 7, 2, 5, 4, 9, 3, 6, 4, 2, 3, 0, 3, 4, 9, 3, 6, 9,\n",
       "       1, 8, 4, 9, 1, 1, 5, 9, 1, 0, 9, 2, 0, 6, 6, 5, 8, 2, 6, 6, 8, 7,\n",
       "       9, 9, 7, 4, 6, 7, 7, 2, 9, 3, 9, 1, 1, 4, 1, 8, 2, 8, 9, 5, 1, 5,\n",
       "       0, 5, 5, 1, 5, 5, 1, 9, 3, 8, 7, 2, 5, 3, 6, 2, 9, 9, 2, 8, 2, 7,\n",
       "       1, 6, 5, 1, 7, 3, 4, 6, 8, 6, 0, 5, 2, 9, 4, 0, 2, 4, 7, 8, 2, 5,\n",
       "       4, 8, 6, 0, 4, 8, 5, 2, 0, 6, 5, 2, 4, 7, 9, 1, 2, 9, 1, 7, 3, 1,\n",
       "       4, 9, 9, 7, 2, 3, 7, 0, 3, 3, 1, 2, 4, 9, 2, 4, 3, 4, 6, 8, 0, 1,\n",
       "       7, 4, 1, 3, 8, 7, 5, 4, 9, 8, 3, 4, 9, 2, 9, 8, 2, 9, 4, 1, 2, 9,\n",
       "       6, 8, 6, 8, 1, 4, 1, 9, 0, 5, 1, 9, 2, 9, 5, 4, 0, 6, 2, 7, 9, 3,\n",
       "       1, 4, 4, 7, 6, 6, 8, 5, 8, 8, 7, 2, 7, 7, 8, 7, 8, 9, 1, 5, 2, 7,\n",
       "       7, 3, 2, 0, 9, 6, 0, 6, 0, 6, 1, 0, 8, 8, 3, 7, 0, 3, 2, 6, 4, 5,\n",
       "       3, 2, 9, 4, 2, 0, 9, 0, 4, 8])"
      ]
     },
     "execution_count": 38,
     "metadata": {},
     "output_type": "execute_result"
    }
   ],
   "source": [
    "knn_clf.predict(x_test)"
   ]
  },
  {
   "cell_type": "code",
   "execution_count": 41,
   "metadata": {},
   "outputs": [
    {
     "name": "stderr",
     "output_type": "stream",
     "text": [
      "[Parallel(n_jobs=3)]: Using backend LokyBackend with 3 concurrent workers.\n"
     ]
    },
    {
     "name": "stdout",
     "output_type": "stream",
     "text": [
      "Fitting 5 folds for each of 60 candidates, totalling 300 fits\n"
     ]
    },
    {
     "name": "stderr",
     "output_type": "stream",
     "text": [
      "[Parallel(n_jobs=3)]: Done  64 tasks      | elapsed:    2.4s\n"
     ]
    },
    {
     "name": "stdout",
     "output_type": "stream",
     "text": [
      "CPU times: user 158 ms, sys: 145 ms, total: 303 ms\n",
      "Wall time: 30.4 s\n"
     ]
    },
    {
     "name": "stderr",
     "output_type": "stream",
     "text": [
      "[Parallel(n_jobs=3)]: Done 300 out of 300 | elapsed:   30.3s finished\n"
     ]
    },
    {
     "data": {
      "text/plain": [
       "GridSearchCV(estimator=KNeighborsClassifier(n_neighbors=1), n_jobs=3,\n",
       "             param_grid=[{'n_neighbors': [1, 2, 3, 4, 5, 6, 7, 8, 9, 10],\n",
       "                          'weights': ['uniform']},\n",
       "                         {'n_neighbors': [1, 2, 3, 4, 5, 6, 7, 8, 9, 10],\n",
       "                          'p': [1, 2, 3, 4, 5], 'weights': ['distance']}],\n",
       "             verbose=2)"
      ]
     },
     "execution_count": 41,
     "metadata": {},
     "output_type": "execute_result"
    }
   ],
   "source": [
    "%%time\n",
    "grid_search = GridSearchCV(knn_clf, param_grid, n_jobs=3, verbose=2)\n",
    "grid_search.fit(x_train, y_train)"
   ]
  },
  {
   "cell_type": "code",
   "execution_count": null,
   "metadata": {},
   "outputs": [],
   "source": []
  }
 ],
 "metadata": {
  "kernelspec": {
   "display_name": "Python 3",
   "language": "python",
   "name": "python3"
  },
  "language_info": {
   "codemirror_mode": {
    "name": "ipython",
    "version": 3
   },
   "file_extension": ".py",
   "mimetype": "text/x-python",
   "name": "python",
   "nbconvert_exporter": "python",
   "pygments_lexer": "ipython3",
   "version": "3.8.6"
  }
 },
 "nbformat": 4,
 "nbformat_minor": 4
}
