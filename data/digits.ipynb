{
 "cells": [
  {
   "cell_type": "code",
   "execution_count": 1,
   "metadata": {},
   "outputs": [],
   "source": [
    "import numpy as np\n",
    "from matplotlib import pyplot as plt\n",
    "from sklearn import datasets"
   ]
  },
  {
   "cell_type": "code",
   "execution_count": 5,
   "metadata": {},
   "outputs": [],
   "source": [
    "digits = datasets.load_digits()"
   ]
  },
  {
   "cell_type": "code",
   "execution_count": 8,
   "metadata": {},
   "outputs": [
    {
     "name": "stdout",
     "output_type": "stream",
     "text": [
      ".. _digits_dataset:\n",
      "\n",
      "Optical recognition of handwritten digits dataset\n",
      "--------------------------------------------------\n",
      "\n",
      "**Data Set Characteristics:**\n",
      "\n",
      "    :Number of Instances: 5620\n",
      "    :Number of Attributes: 64\n",
      "    :Attribute Information: 8x8 image of integer pixels in the range 0..16.\n",
      "    :Missing Attribute Values: None\n",
      "    :Creator: E. Alpaydin (alpaydin '@' boun.edu.tr)\n",
      "    :Date: July; 1998\n",
      "\n",
      "This is a copy of the test set of the UCI ML hand-written digits datasets\n",
      "https://archive.ics.uci.edu/ml/datasets/Optical+Recognition+of+Handwritten+Digits\n",
      "\n",
      "The data set contains images of hand-written digits: 10 classes where\n",
      "each class refers to a digit.\n",
      "\n",
      "Preprocessing programs made available by NIST were used to extract\n",
      "normalized bitmaps of handwritten digits from a preprinted form. From a\n",
      "total of 43 people, 30 contributed to the training set and different 13\n",
      "to the test set. 32x32 bitmaps are divided into nonoverlapping blocks of\n",
      "4x4 and the number of on pixels are counted in each block. This generates\n",
      "an input matrix of 8x8 where each element is an integer in the range\n",
      "0..16. This reduces dimensionality and gives invariance to small\n",
      "distortions.\n",
      "\n",
      "For info on NIST preprocessing routines, see M. D. Garris, J. L. Blue, G.\n",
      "T. Candela, D. L. Dimmick, J. Geist, P. J. Grother, S. A. Janet, and C.\n",
      "L. Wilson, NIST Form-Based Handprint Recognition System, NISTIR 5469,\n",
      "1994.\n",
      "\n",
      ".. topic:: References\n",
      "\n",
      "  - C. Kaynak (1995) Methods of Combining Multiple Classifiers and Their\n",
      "    Applications to Handwritten Digit Recognition, MSc Thesis, Institute of\n",
      "    Graduate Studies in Science and Engineering, Bogazici University.\n",
      "  - E. Alpaydin, C. Kaynak (1998) Cascading Classifiers, Kybernetika.\n",
      "  - Ken Tang and Ponnuthurai N. Suganthan and Xi Yao and A. Kai Qin.\n",
      "    Linear dimensionalityreduction using relevance weighted LDA. School of\n",
      "    Electrical and Electronic Engineering Nanyang Technological University.\n",
      "    2005.\n",
      "  - Claudio Gentile. A New Approximate Maximal Margin Classification\n",
      "    Algorithm. NIPS. 2000.\n"
     ]
    }
   ],
   "source": [
    "print(digits.DESCR)"
   ]
  },
  {
   "cell_type": "code",
   "execution_count": 10,
   "metadata": {},
   "outputs": [],
   "source": [
    "x = digits.data\n",
    "y = digits.target"
   ]
  },
  {
   "cell_type": "code",
   "execution_count": 12,
   "metadata": {},
   "outputs": [],
   "source": [
    "from sklearn.model_selection import train_test_split\n",
    "import matplotlib"
   ]
  },
  {
   "cell_type": "code",
   "execution_count": 11,
   "metadata": {},
   "outputs": [],
   "source": [
    "x_train, x_test, y_train, y_test = train_test_split(x, y)"
   ]
  },
  {
   "cell_type": "code",
   "execution_count": 13,
   "metadata": {},
   "outputs": [
    {
     "data": {
      "text/plain": [
       "<matplotlib.image.AxesImage at 0x7f3f3fd4e6d0>"
      ]
     },
     "execution_count": 13,
     "metadata": {},
     "output_type": "execute_result"
    },
    {
     "data": {
      "image/png": "[encoded data removed]",
      "text/plain": [
       "<Figure size 432x288 with 1 Axes>"
      ]
     },
     "metadata": {
      "needs_background": "light"
     },
     "output_type": "display_data"
    }
   ],
   "source": [
    "some_digits = x[3]\n",
    "some_digits_image = some_digits.reshape(8, 8)\n",
    "plt.imshow(some_digits_image, cmap=matplotlib.cm.binary)"
   ]
  },
  {
   "cell_type": "code",
   "execution_count": 14,
   "metadata": {},
   "outputs": [],
   "source": [
    "from sklearn.neighbors import KNeighborsClassifier"
   ]
  },
  {
   "cell_type": "code",
   "execution_count": 15,
   "metadata": {},
   "outputs": [],
   "source": [
    "knn_clf = KNeighborsClassifier(3)"
   ]
  },
  {
   "cell_type": "code",
   "execution_count": 16,
   "metadata": {},
   "outputs": [
    {
     "data": {
      "text/plain": [
       "KNeighborsClassifier(n_neighbors=3)"
      ]
     },
     "execution_count": 16,
     "metadata": {},
     "output_type": "execute_result"
    }
   ],
   "source": [
    "knn_clf.fit(x_train, y_train)"
   ]
  },
  {
   "cell_type": "code",
   "execution_count": 17,
   "metadata": {},
   "outputs": [],
   "source": [
    "y_predict = knn_clf.predict(x_test)"
   ]
  },
  {
   "cell_type": "code",
   "execution_count": 18,
   "metadata": {},
   "outputs": [
    {
     "data": {
      "text/plain": [
       "array([4, 3, 1, 4, 6, 3, 7, 7, 3, 9, 1, 8, 9, 5, 3, 5, 1, 2, 9, 4, 4, 8,\n",
       "       5, 8, 1, 8, 9, 6, 8, 2, 9, 9, 5, 9, 6, 1, 6, 7, 9, 7, 1, 2, 5, 2,\n",
       "       7, 3, 4, 0, 6, 6, 2, 1, 9, 8, 4, 2, 3, 0, 2, 5, 3, 6, 7, 8, 9, 4,\n",
       "       1, 1, 3, 9, 8, 6, 9, 8, 3, 4, 8, 5, 6, 7, 0, 4, 0, 6, 5, 7, 7, 7,\n",
       "       7, 1, 0, 1, 9, 3, 7, 7, 5, 7, 3, 6, 4, 5, 5, 0, 3, 6, 1, 5, 7, 7,\n",
       "       3, 4, 5, 3, 1, 2, 0, 1, 5, 1, 3, 9, 3, 2, 2, 1, 0, 8, 1, 0, 4, 7,\n",
       "       5, 2, 6, 2, 2, 2, 7, 4, 0, 2, 3, 9, 6, 4, 4, 8, 7, 9, 0, 3, 1, 6,\n",
       "       8, 3, 8, 2, 5, 6, 7, 7, 4, 2, 5, 5, 7, 1, 3, 5, 5, 5, 5, 0, 0, 1,\n",
       "       2, 5, 7, 0, 5, 7, 7, 1, 3, 7, 0, 7, 9, 1, 3, 2, 9, 9, 6, 9, 0, 8,\n",
       "       0, 8, 4, 8, 0, 7, 5, 2, 9, 0, 3, 5, 4, 8, 4, 6, 5, 5, 3, 0, 7, 3,\n",
       "       7, 1, 3, 3, 6, 0, 3, 7, 4, 9, 2, 1, 2, 0, 7, 0, 1, 4, 8, 5, 5, 1,\n",
       "       8, 4, 7, 9, 7, 0, 4, 6, 7, 9, 5, 8, 5, 1, 3, 3, 4, 8, 5, 8, 2, 5,\n",
       "       1, 6, 8, 9, 6, 7, 7, 2, 9, 0, 2, 7, 9, 4, 6, 7, 0, 3, 9, 6, 0, 6,\n",
       "       6, 1, 4, 5, 7, 4, 9, 9, 6, 5, 0, 5, 6, 3, 4, 9, 7, 3, 7, 3, 9, 7,\n",
       "       4, 5, 2, 0, 7, 6, 9, 6, 0, 3, 6, 6, 6, 0, 6, 5, 1, 6, 5, 6, 5, 8,\n",
       "       4, 7, 1, 5, 9, 9, 9, 8, 0, 1, 3, 4, 5, 0, 5, 2, 0, 5, 1, 4, 9, 3,\n",
       "       5, 3, 6, 9, 7, 6, 3, 7, 5, 6, 5, 1, 8, 8, 1, 3, 7, 1, 1, 2, 5, 9,\n",
       "       2, 0, 4, 4, 5, 6, 9, 5, 3, 1, 5, 8, 6, 8, 7, 8, 1, 5, 5, 3, 4, 6,\n",
       "       0, 2, 8, 6, 1, 7, 4, 9, 7, 3, 6, 2, 9, 3, 0, 0, 5, 2, 2, 1, 3, 1,\n",
       "       4, 7, 9, 0, 2, 4, 7, 7, 5, 8, 8, 4, 4, 0, 3, 1, 1, 0, 3, 7, 8, 7,\n",
       "       3, 8, 8, 3, 2, 3, 8, 1, 5, 3])"
      ]
     },
     "execution_count": 18,
     "metadata": {},
     "output_type": "execute_result"
    }
   ],
   "source": [
    "y_predict"
   ]
  },
  {
   "cell_type": "code",
   "execution_count": 20,
   "metadata": {},
   "outputs": [
    {
     "data": {
      "text/plain": [
       "array([4, 3, 1, 4, 6, 3, 7, 7, 3, 9, 1, 8, 9, 5, 3, 5, 1, 2, 9, 4, 4, 8,\n",
       "       5, 8, 1, 8, 9, 6, 8, 2, 9, 9, 5, 9, 6, 1, 6, 7, 9, 7, 1, 2, 5, 2,\n",
       "       7, 3, 4, 0, 6, 6, 2, 1, 9, 8, 4, 2, 3, 0, 2, 5, 3, 6, 7, 8, 9, 4,\n",
       "       1, 1, 3, 9, 8, 6, 9, 8, 3, 4, 8, 5, 6, 7, 0, 4, 0, 6, 5, 7, 7, 7,\n",
       "       7, 1, 0, 1, 3, 3, 7, 7, 5, 7, 3, 6, 4, 5, 5, 0, 3, 6, 1, 5, 7, 7,\n",
       "       3, 4, 5, 3, 1, 2, 0, 1, 5, 1, 3, 9, 9, 2, 2, 1, 0, 8, 1, 0, 4, 7,\n",
       "       5, 2, 6, 2, 2, 2, 7, 4, 0, 2, 8, 9, 6, 4, 4, 8, 7, 9, 0, 3, 1, 6,\n",
       "       8, 3, 8, 2, 5, 6, 7, 7, 4, 2, 5, 5, 7, 1, 3, 5, 5, 5, 5, 0, 0, 1,\n",
       "       2, 5, 7, 0, 5, 7, 7, 1, 3, 7, 0, 7, 5, 1, 3, 2, 9, 9, 6, 9, 0, 8,\n",
       "       0, 8, 4, 8, 0, 7, 5, 2, 9, 0, 3, 5, 4, 8, 4, 6, 5, 5, 3, 0, 7, 3,\n",
       "       7, 1, 3, 3, 6, 0, 3, 7, 4, 9, 2, 1, 2, 0, 7, 0, 1, 4, 8, 5, 5, 1,\n",
       "       8, 4, 7, 9, 7, 0, 4, 6, 7, 9, 5, 8, 5, 1, 3, 3, 4, 8, 5, 8, 2, 5,\n",
       "       1, 6, 8, 9, 6, 7, 7, 2, 9, 0, 2, 7, 9, 4, 6, 7, 0, 3, 9, 6, 0, 6,\n",
       "       6, 8, 4, 5, 3, 4, 9, 9, 6, 5, 0, 5, 6, 3, 4, 9, 7, 3, 7, 3, 9, 7,\n",
       "       4, 5, 2, 0, 7, 6, 9, 6, 0, 3, 6, 6, 6, 0, 6, 5, 1, 6, 5, 6, 5, 8,\n",
       "       4, 7, 1, 5, 9, 9, 9, 8, 0, 1, 3, 4, 5, 0, 5, 2, 0, 5, 1, 4, 9, 3,\n",
       "       5, 3, 6, 9, 7, 6, 3, 7, 5, 6, 5, 1, 8, 8, 1, 3, 7, 1, 1, 2, 5, 9,\n",
       "       2, 0, 4, 4, 5, 6, 9, 5, 3, 1, 5, 8, 6, 8, 7, 8, 1, 5, 5, 3, 4, 6,\n",
       "       0, 2, 8, 6, 1, 7, 4, 9, 7, 3, 6, 2, 9, 3, 0, 0, 5, 2, 2, 1, 3, 1,\n",
       "       4, 7, 9, 0, 2, 4, 7, 7, 5, 8, 8, 4, 4, 0, 3, 1, 1, 0, 3, 7, 8, 7,\n",
       "       3, 8, 8, 3, 2, 3, 8, 1, 5, 3])"
      ]
     },
     "execution_count": 20,
     "metadata": {},
     "output_type": "execute_result"
    }
   ],
   "source": [
    "y_test"
   ]
  },
  {
   "cell_type": "code",
   "execution_count": 19,
   "metadata": {},
   "outputs": [
    {
     "data": {
      "text/plain": [
       "0.9866666666666667"
      ]
     },
     "execution_count": 19,
     "metadata": {},
     "output_type": "execute_result"
    }
   ],
   "source": [
    "sum(y_predict == y_test) / len(y_test)"
   ]
  },
  {
   "cell_type": "code",
   "execution_count": null,
   "metadata": {},
   "outputs": [],
   "source": [
    "from sklearn import acc"
   ]
  }
 ],
 "metadata": {
  "kernelspec": {
   "display_name": "Python 3",
   "language": "python",
   "name": "python3"
  },
  "language_info": {
   "codemirror_mode": {
    "name": "ipython",
    "version": 3
   },
   "file_extension": ".py",
   "mimetype": "text/x-python",
   "name": "python",
   "nbconvert_exporter": "python",
   "pygments_lexer": "ipython3",
   "version": "3.8.6"
  }
 },
 "nbformat": 4,
 "nbformat_minor": 4
}
