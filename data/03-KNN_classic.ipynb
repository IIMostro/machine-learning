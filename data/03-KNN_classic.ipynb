{
 "cells": [
  {
   "cell_type": "markdown",
   "metadata": {},
   "source": [
    "# KNN过程"
   ]
  },
  {
   "cell_type": "markdown",
   "metadata": {},
   "source": [
    "# $\\sqrt[]{\\sum_{i=1}^n(X_i^a-X_i^b)^2}$\n",
    "求一个数的欧拉距离。 <br/>\n",
    "python表达\n",
    "```python\n",
    "distances = [sqrt(np.sum((x_train - x) ** 2)) for x in X_train]\n",
    "```\n",
    "其中distances就包含了X_train中距离x的所有距离"
   ]
  },
  {
   "cell_type": "code",
   "execution_count": 1,
   "metadata": {},
   "outputs": [],
   "source": [
    "import numpy as np\n",
    "from sklearn import datasets\n",
    "from matplotlib import pyplot as plt"
   ]
  },
  {
   "cell_type": "code",
   "execution_count": 2,
   "metadata": {},
   "outputs": [],
   "source": [
    "iris = datasets.load_iris()"
   ]
  },
  {
   "cell_type": "code",
   "execution_count": 3,
   "metadata": {},
   "outputs": [],
   "source": [
    "x = iris.data\n",
    "y = iris.target"
   ]
  },
  {
   "cell_type": "code",
   "execution_count": 4,
   "metadata": {},
   "outputs": [
    {
     "data": {
      "image/png": "[encoded data removed]",
      "text/plain": [
       "<Figure size 432x288 with 1 Axes>"
      ]
     },
     "metadata": {
      "needs_background": "light"
     },
     "output_type": "display_data"
    }
   ],
   "source": [
    "plt.scatter(x[y==0, 0], x[y==0, 1], color=\"r\")\n",
    "plt.scatter(x[y==1, 0], x[y==1, 1], color=\"g\")\n",
    "plt.scatter(x[y==2, 0], x[y==2, 1], color=\"b\")\n",
    "plt.show()"
   ]
  },
  {
   "cell_type": "markdown",
   "metadata": {},
   "source": [
    "### sklearn中的split"
   ]
  },
  {
   "cell_type": "code",
   "execution_count": 5,
   "metadata": {},
   "outputs": [],
   "source": [
    "from sklearn.model_selection import train_test_split"
   ]
  },
  {
   "cell_type": "code",
   "execution_count": 6,
   "metadata": {},
   "outputs": [],
   "source": [
    "x_train, x_test, y_train, y_test = train_test_split(x, y)"
   ]
  },
  {
   "cell_type": "code",
   "execution_count": 7,
   "metadata": {},
   "outputs": [
    {
     "data": {
      "text/plain": [
       "(112,)"
      ]
     },
     "execution_count": 7,
     "metadata": {},
     "output_type": "execute_result"
    }
   ],
   "source": [
    "x_train.shape\n",
    "y_train.shape "
   ]
  },
  {
   "cell_type": "markdown",
   "metadata": {},
   "source": [
    "### numpy方式分割"
   ]
  },
  {
   "cell_type": "code",
   "execution_count": 16,
   "metadata": {},
   "outputs": [
    {
     "data": {
      "text/plain": [
       "array([ 68,   3,  44, 127,  81, 108,  69,   2, 138,  34,  85, 129, 128,\n",
       "        60, 107,  97,  13,  37,  16,  48, 115,  42,  88, 132, 139,  98,\n",
       "        14,  10,  25,  18, 143, 124, 117,  35, 147, 130,  12,  22,  54,\n",
       "       112,  26,  33,  64, 123,  36,  19,  52,  21,  11,   6,  90, 105,\n",
       "        46,  43,  38,  65,  32,  96,  17,  94, 136, 100,  62,  82,  24,\n",
       "        79,   8,  23, 116,  58,  91,   9, 145,  63,  78, 141,  74,  87,\n",
       "        75,  30,  61,  47, 106, 113,  57,  55,  84, 146, 142,  29, 149,\n",
       "        56,  40,   1,   7, 114,  39,  86,  15,  31,  70, 148,  89, 134,\n",
       "         4,  27,  67,  76, 101, 109,  71, 119,  51,  95,  72,  45, 144,\n",
       "         5,  49, 131,  83,  59, 120, 133, 102,  41, 121,  20,   0,  93,\n",
       "        77, 104,  99,  80, 125,  53,  28, 137,  92,  73, 122, 118, 126,\n",
       "        50, 110, 111, 140, 135, 103,  66])"
      ]
     },
     "execution_count": 16,
     "metadata": {},
     "output_type": "execute_result"
    }
   ],
   "source": [
    "shuffle_indexs = np.random.permutation(len(x))\n",
    "shuffle_indexs"
   ]
  },
  {
   "cell_type": "code",
   "execution_count": 17,
   "metadata": {},
   "outputs": [],
   "source": [
    "test_ratio = 0.2\n",
    "test_size = len(x) * test_ratio"
   ]
  },
  {
   "cell_type": "markdown",
   "metadata": {},
   "source": [
    "### sklearn中的KNN"
   ]
  },
  {
   "cell_type": "code",
   "execution_count": 8,
   "metadata": {},
   "outputs": [],
   "source": [
    "from sklearn.neighbors import KNeighborsClassifier"
   ]
  },
  {
   "cell_type": "code",
   "execution_count": 9,
   "metadata": {},
   "outputs": [],
   "source": [
    "knn_classifier = KNeighborsClassifier(6)"
   ]
  },
  {
   "cell_type": "code",
   "execution_count": 10,
   "metadata": {},
   "outputs": [
    {
     "data": {
      "text/plain": [
       "KNeighborsClassifier(n_neighbors=6)"
      ]
     },
     "execution_count": 10,
     "metadata": {},
     "output_type": "execute_result"
    }
   ],
   "source": [
    "knn_classifier.fit(x_train, y_train)"
   ]
  },
  {
   "cell_type": "code",
   "execution_count": 11,
   "metadata": {},
   "outputs": [
    {
     "data": {
      "text/plain": [
       "array([[4.6, 3.2, 1.4, 0.2]])"
      ]
     },
     "execution_count": 11,
     "metadata": {},
     "output_type": "execute_result"
    }
   ],
   "source": [
    "cal = x_test[np.random.randint(0, len(x_test))].reshape(1, -1)\n",
    "cal"
   ]
  },
  {
   "cell_type": "code",
   "execution_count": 12,
   "metadata": {},
   "outputs": [
    {
     "data": {
      "text/plain": [
       "array([0])"
      ]
     },
     "execution_count": 12,
     "metadata": {},
     "output_type": "execute_result"
    }
   ],
   "source": [
    "knn_classifier.predict(cal)"
   ]
  },
  {
   "cell_type": "markdown",
   "metadata": {},
   "source": [
    "### 2021年8月29日00:04:03"
   ]
  },
  {
   "cell_type": "markdown",
   "metadata": {},
   "source": [
    "### KNN基础"
   ]
  },
  {
   "cell_type": "code",
   "execution_count": 13,
   "metadata": {},
   "outputs": [
    {
     "data": {
      "text/plain": [
       "array([[8.30087388, 9.92027639],\n",
       "       [3.19551254, 5.90426675],\n",
       "       [4.26532436, 9.32554813],\n",
       "       [3.93263942, 8.49868732],\n",
       "       [6.49282606, 0.29410019],\n",
       "       [4.9298937 , 7.44623321],\n",
       "       [2.6348645 , 5.07538016],\n",
       "       [6.6251651 , 7.72543797],\n",
       "       [3.84550928, 4.54068307],\n",
       "       [6.12232847, 8.39965414]])"
      ]
     },
     "execution_count": 13,
     "metadata": {},
     "output_type": "execute_result"
    }
   ],
   "source": [
    "raw_data_X = np.random.rand(10, 2) * 10\n",
    "raw_data_y = [0,0,0,0,0,1,1,1,1,1]\n",
    "raw_data_X"
   ]
  },
  {
   "cell_type": "code",
   "execution_count": 14,
   "metadata": {},
   "outputs": [
    {
     "data": {
      "text/plain": [
       "array([[8.30087388, 9.92027639],\n",
       "       [3.19551254, 5.90426675],\n",
       "       [4.26532436, 9.32554813],\n",
       "       [3.93263942, 8.49868732],\n",
       "       [6.49282606, 0.29410019],\n",
       "       [4.9298937 , 7.44623321],\n",
       "       [2.6348645 , 5.07538016],\n",
       "       [6.6251651 , 7.72543797],\n",
       "       [3.84550928, 4.54068307],\n",
       "       [6.12232847, 8.39965414]])"
      ]
     },
     "execution_count": 14,
     "metadata": {},
     "output_type": "execute_result"
    }
   ],
   "source": [
    "x_train = raw_data_X\n",
    "y_train = np.array(raw_data_y)\n",
    "x_train"
   ]
  },
  {
   "cell_type": "code",
   "execution_count": 15,
   "metadata": {},
   "outputs": [
    {
     "data": {
      "image/png": "[encoded data removed]",
      "text/plain": [
       "<Figure size 432x288 with 1 Axes>"
      ]
     },
     "metadata": {
      "needs_background": "light"
     },
     "output_type": "display_data"
    }
   ],
   "source": [
    "plt.scatter(x_train[y_train==0, 0], x_train[y_train==0, 1], color=\"r\")\n",
    "plt.scatter(x_train[y_train==1, 0], x_train[y_train==1, 1], color=\"g\")\n",
    "plt.show()"
   ]
  }
 ],
 "metadata": {
  "kernelspec": {
   "display_name": "Python 3",
   "language": "python",
   "name": "python3"
  },
  "language_info": {
   "codemirror_mode": {
    "name": "ipython",
    "version": 3
   },
   "file_extension": ".py",
   "mimetype": "text/x-python",
   "name": "python",
   "nbconvert_exporter": "python",
   "pygments_lexer": "ipython3",
   "version": "3.8.8"
  }
 },
 "nbformat": 4,
 "nbformat_minor": 4
}
